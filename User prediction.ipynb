{
 "cells": [
  {
   "cell_type": "code",
   "execution_count": 1,
   "metadata": {},
   "outputs": [],
   "source": [
    "import numpy as np\n",
    "import pandas as pd\n",
    "import matplotlib\n",
    "import seaborn as sns\n",
    "import matplotlib.pyplot as plt\n",
    "\n",
    "import xgboost as xgb\n",
    "from scipy import stats\n",
    "from termcolor import colored\n",
    "from sklearn.model_selection import GridSearchCV\n",
    "from sklearn.model_selection import StratifiedKFold\n",
    "from sklearn import preprocessing\n",
    "from sklearn.preprocessing import LabelEncoder\n",
    "from sklearn.compose import ColumnTransformer\n",
    "from sklearn.preprocessing import OneHotEncoder\n",
    "from xgboost import plot_importance\n",
    "%matplotlib inline\n",
    "\n",
    "\n",
    "from xgboost import XGBClassifier\n",
    "from sklearn.model_selection import train_test_split\n",
    "from sklearn.metrics import accuracy_score\n",
    "# load data\n",
    "import pandas as pd\n",
    "filename='demotrain6.xlsx'\n",
    "dataset = pd.read_excel(filename)"
   ]
  },
  {
   "cell_type": "code",
   "execution_count": 2,
   "metadata": {},
   "outputs": [
    {
     "data": {
      "text/html": [
       "<div>\n",
       "<style scoped>\n",
       "    .dataframe tbody tr th:only-of-type {\n",
       "        vertical-align: middle;\n",
       "    }\n",
       "\n",
       "    .dataframe tbody tr th {\n",
       "        vertical-align: top;\n",
       "    }\n",
       "\n",
       "    .dataframe thead th {\n",
       "        text-align: right;\n",
       "    }\n",
       "</style>\n",
       "<table border=\"1\" class=\"dataframe\">\n",
       "  <thead>\n",
       "    <tr style=\"text-align: right;\">\n",
       "      <th></th>\n",
       "      <th>INCOME_DESC</th>\n",
       "      <th>Total_sales</th>\n",
       "      <th>total_visits</th>\n",
       "      <th>median_basket</th>\n",
       "      <th>avg_price</th>\n",
       "      <th>Sensitivity</th>\n",
       "    </tr>\n",
       "  </thead>\n",
       "  <tbody>\n",
       "    <tr>\n",
       "      <th>0</th>\n",
       "      <td>35-49K</td>\n",
       "      <td>3701.91</td>\n",
       "      <td>73</td>\n",
       "      <td>48.50</td>\n",
       "      <td>2.521737</td>\n",
       "      <td>Sensible</td>\n",
       "    </tr>\n",
       "    <tr>\n",
       "      <th>1</th>\n",
       "      <td>50-74K</td>\n",
       "      <td>2440.62</td>\n",
       "      <td>43</td>\n",
       "      <td>40.67</td>\n",
       "      <td>2.690871</td>\n",
       "      <td>Not sensible</td>\n",
       "    </tr>\n",
       "    <tr>\n",
       "      <th>2</th>\n",
       "      <td>25-34K</td>\n",
       "      <td>4387.35</td>\n",
       "      <td>96</td>\n",
       "      <td>34.35</td>\n",
       "      <td>2.865676</td>\n",
       "      <td>Not sensible</td>\n",
       "    </tr>\n",
       "    <tr>\n",
       "      <th>3</th>\n",
       "      <td>75-99K</td>\n",
       "      <td>11205.15</td>\n",
       "      <td>231</td>\n",
       "      <td>40.75</td>\n",
       "      <td>5.793769</td>\n",
       "      <td>Sensible</td>\n",
       "    </tr>\n",
       "    <tr>\n",
       "      <th>4</th>\n",
       "      <td>50-74K</td>\n",
       "      <td>1486.02</td>\n",
       "      <td>93</td>\n",
       "      <td>13.73</td>\n",
       "      <td>2.936798</td>\n",
       "      <td>Not sensible</td>\n",
       "    </tr>\n",
       "    <tr>\n",
       "      <th>5</th>\n",
       "      <td>Under 15K</td>\n",
       "      <td>4916.05</td>\n",
       "      <td>119</td>\n",
       "      <td>36.49</td>\n",
       "      <td>5.057665</td>\n",
       "      <td>Not sensible</td>\n",
       "    </tr>\n",
       "    <tr>\n",
       "      <th>6</th>\n",
       "      <td>100-124K</td>\n",
       "      <td>5561.20</td>\n",
       "      <td>126</td>\n",
       "      <td>29.90</td>\n",
       "      <td>3.637148</td>\n",
       "      <td>Sensible</td>\n",
       "    </tr>\n",
       "    <tr>\n",
       "      <th>7</th>\n",
       "      <td>15-24K</td>\n",
       "      <td>9877.49</td>\n",
       "      <td>363</td>\n",
       "      <td>14.72</td>\n",
       "      <td>2.446740</td>\n",
       "      <td>Not sensible</td>\n",
       "    </tr>\n",
       "    <tr>\n",
       "      <th>8</th>\n",
       "      <td>75-99K</td>\n",
       "      <td>6186.61</td>\n",
       "      <td>326</td>\n",
       "      <td>15.50</td>\n",
       "      <td>3.622137</td>\n",
       "      <td>Not sensible</td>\n",
       "    </tr>\n",
       "    <tr>\n",
       "      <th>9</th>\n",
       "      <td>75-99K</td>\n",
       "      <td>5204.30</td>\n",
       "      <td>111</td>\n",
       "      <td>49.62</td>\n",
       "      <td>3.880910</td>\n",
       "      <td>Sensible</td>\n",
       "    </tr>\n",
       "  </tbody>\n",
       "</table>\n",
       "</div>"
      ],
      "text/plain": [
       "  INCOME_DESC  Total_sales  total_visits  median_basket  avg_price  \\\n",
       "0      35-49K      3701.91            73          48.50   2.521737   \n",
       "1      50-74K      2440.62            43          40.67   2.690871   \n",
       "2      25-34K      4387.35            96          34.35   2.865676   \n",
       "3      75-99K     11205.15           231          40.75   5.793769   \n",
       "4      50-74K      1486.02            93          13.73   2.936798   \n",
       "5   Under 15K      4916.05           119          36.49   5.057665   \n",
       "6    100-124K      5561.20           126          29.90   3.637148   \n",
       "7      15-24K      9877.49           363          14.72   2.446740   \n",
       "8      75-99K      6186.61           326          15.50   3.622137   \n",
       "9      75-99K      5204.30           111          49.62   3.880910   \n",
       "\n",
       "    Sensitivity  \n",
       "0      Sensible  \n",
       "1  Not sensible  \n",
       "2  Not sensible  \n",
       "3      Sensible  \n",
       "4  Not sensible  \n",
       "5  Not sensible  \n",
       "6      Sensible  \n",
       "7  Not sensible  \n",
       "8  Not sensible  \n",
       "9      Sensible  "
      ]
     },
     "execution_count": 2,
     "metadata": {},
     "output_type": "execute_result"
    }
   ],
   "source": [
    "dataset.head(10)"
   ]
  },
  {
   "cell_type": "code",
   "execution_count": 3,
   "metadata": {},
   "outputs": [
    {
     "name": "stdout",
     "output_type": "stream",
     "text": [
      "Class=Sensible, Count=247, Percentage=32.846%\n",
      "Class=Not sensible, Count=505, Percentage=67.154%\n"
     ]
    }
   ],
   "source": [
    "import collections\n",
    "from collections import Counter\n",
    "\n",
    "target = dataset.values[:,-1]\n",
    "counter = Counter(target)\n",
    "for k,v in counter.items():\n",
    "\tper = v / len(target) * 100\n",
    "\tprint('Class=%s, Count=%d, Percentage=%.3f%%' % (k, v, per))"
   ]
  },
  {
   "cell_type": "code",
   "execution_count": 4,
   "metadata": {},
   "outputs": [],
   "source": [
    "X=dataset.drop(columns=['Sensitivity'])\n",
    "Y=dataset['Sensitivity']"
   ]
  },
  {
   "cell_type": "code",
   "execution_count": 5,
   "metadata": {},
   "outputs": [],
   "source": [
    "# encode string class values as integers\n",
    "label_encoder = preprocessing.LabelEncoder()\n",
    "label_encoder = label_encoder.fit(dataset['Sensitivity'])\n",
    "label_encoded_y = label_encoder.transform(dataset['Sensitivity'])\n",
    "\n",
    "X['INCOME_DESC'].replace(['Under 15K', '15-24K', '25-34K', '35-49K', '50-74K', '75-99K', '100-124K', '125-149K', '150-174K', '175-199K', '200-249K', '250K+'],[0,1,2,3,4,5,6,7,8,9,10,11],inplace=True)\n",
    "\n",
    "# Encoding the categorical data\n",
    "#labelencoder_X_1 = LabelEncoder()\n",
    "#X['AGE_DESC'] = labelencoder_X_1.fit_transform(X['AGE_DESC'])\n",
    "\n",
    "#labelencoder_X_2 = LabelEncoder()\n",
    "#labelencoder_X_2.fit([\"Under 15K\", \"15-24K\", \"25-34K\", \"35-49K\", \"50-74K\", \"\", \"75-99K\", \"100-124K\", \"125-149K\", \"150-174K\", \"175-199K\", \"200-249K\", \"250K+\"])\n",
    "#X['INCOME_DESC'] = labelencoder_X_2.transform(X['INCOME_DESC'])\n",
    "\n",
    "#labelencoder_X_2 = LabelEncoder()\n",
    "#X['MARITAL_STATUS_CODE'] = labelencoder_X_2.fit_transform(X['MARITAL_STATUS_CODE'])\n",
    "#labelencoder_X_3 = LabelEncoder()\n"
   ]
  },
  {
   "cell_type": "code",
   "execution_count": 6,
   "metadata": {},
   "outputs": [
    {
     "name": "stdout",
     "output_type": "stream",
     "text": [
      "               Total_sales  total_visits  median_basket  avg_price\n",
      "Total_sales          1.000         0.517          0.348      0.345\n",
      "total_visits         0.517         1.000         -0.300      0.003\n",
      "median_basket        0.348        -0.300          1.000      0.240\n",
      "avg_price            0.345         0.003          0.240      1.000\n"
     ]
    }
   ],
   "source": [
    "from pandas import set_option\n",
    "set_option('display.width', 100)\n",
    "set_option('precision', 3)\n",
    "correlations = dataset.corr(method='pearson')\n",
    "print(correlations)\n"
   ]
  },
  {
   "cell_type": "code",
   "execution_count": 7,
   "metadata": {},
   "outputs": [
    {
     "name": "stdout",
     "output_type": "stream",
     "text": [
      "                Skew\n",
      "total_visits   3.466\n",
      "median_basket  1.918\n",
      "Total_sales    1.634\n",
      "avg_price      1.449\n"
     ]
    }
   ],
   "source": [
    "#permet d'avoir le skewness par ordre décroissant des variables\n",
    "num_feats=dataset.dtypes[dataset.dtypes!='object'].index\n",
    "skew_feats=dataset[num_feats].skew().sort_values(ascending=False)\n",
    "skewness=pd.DataFrame({'Skew':skew_feats})\n",
    "print(skewness)"
   ]
  },
  {
   "cell_type": "code",
   "execution_count": 8,
   "metadata": {},
   "outputs": [
    {
     "data": {
      "text/plain": [
       "<seaborn.axisgrid.FacetGrid at 0x1d11da7e8c8>"
      ]
     },
     "execution_count": 8,
     "metadata": {},
     "output_type": "execute_result"
    },
    {
     "data": {
      "image/png": "[encoded data removed]",
      "text/plain": [
       "<Figure size 864x432 with 5 Axes>"
      ]
     },
     "metadata": {
      "needs_background": "light"
     },
     "output_type": "display_data"
    }
   ],
   "source": [
    "df = pd.DataFrame(data=X, columns=[  'INCOME_DESC', 'Total_sales','total_visits','median_basket','avg_price'])\n",
    "#Permet de tracer les courbes de distribution de toutes les variables\n",
    "nd = pd.melt(df, value_vars =df )\n",
    "n1 = sns.FacetGrid (nd, col='variable', col_wrap=4, sharex=False, sharey = False)\n",
    "n1 = n1.map(sns.distplot, 'value')\n",
    "n1"
   ]
  },
  {
   "cell_type": "code",
   "execution_count": 9,
   "metadata": {},
   "outputs": [],
   "source": [
    "X_train, X_test, y_train, y_test = train_test_split(X,Y ,\n",
    "test_size=0.25, random_state=7)\n",
    "#label_encoded_y"
   ]
  },
  {
   "cell_type": "code",
   "execution_count": 10,
   "metadata": {},
   "outputs": [
    {
     "name": "stdout",
     "output_type": "stream",
     "text": [
      "[ 0.62396779  0.03385466 -0.1779564   0.07495175 -0.40431864]\n"
     ]
    },
    {
     "data": {
      "text/html": [
       "<div>\n",
       "<style scoped>\n",
       "    .dataframe tbody tr th:only-of-type {\n",
       "        vertical-align: middle;\n",
       "    }\n",
       "\n",
       "    .dataframe tbody tr th {\n",
       "        vertical-align: top;\n",
       "    }\n",
       "\n",
       "    .dataframe thead th {\n",
       "        text-align: right;\n",
       "    }\n",
       "</style>\n",
       "<table border=\"1\" class=\"dataframe\">\n",
       "  <thead>\n",
       "    <tr style=\"text-align: right;\">\n",
       "      <th></th>\n",
       "      <th>INCOME_DESC</th>\n",
       "      <th>Total_sales</th>\n",
       "      <th>total_visits</th>\n",
       "      <th>median_basket</th>\n",
       "      <th>avg_price</th>\n",
       "    </tr>\n",
       "  </thead>\n",
       "  <tbody>\n",
       "    <tr>\n",
       "      <th>count</th>\n",
       "      <td>5.640e+02</td>\n",
       "      <td>5.640e+02</td>\n",
       "      <td>5.640e+02</td>\n",
       "      <td>5.640e+02</td>\n",
       "      <td>5.640e+02</td>\n",
       "    </tr>\n",
       "    <tr>\n",
       "      <th>mean</th>\n",
       "      <td>-1.228e-16</td>\n",
       "      <td>-4.299e-16</td>\n",
       "      <td>2.520e-16</td>\n",
       "      <td>-9.134e-17</td>\n",
       "      <td>-1.071e-16</td>\n",
       "    </tr>\n",
       "    <tr>\n",
       "      <th>std</th>\n",
       "      <td>1.001e+00</td>\n",
       "      <td>1.001e+00</td>\n",
       "      <td>1.001e+00</td>\n",
       "      <td>1.001e+00</td>\n",
       "      <td>1.001e+00</td>\n",
       "    </tr>\n",
       "    <tr>\n",
       "      <th>min</th>\n",
       "      <td>-2.027e+00</td>\n",
       "      <td>-2.905e+00</td>\n",
       "      <td>-3.119e+00</td>\n",
       "      <td>-3.156e+00</td>\n",
       "      <td>-3.554e+00</td>\n",
       "    </tr>\n",
       "    <tr>\n",
       "      <th>25%</th>\n",
       "      <td>-7.496e-01</td>\n",
       "      <td>-7.234e-01</td>\n",
       "      <td>-6.451e-01</td>\n",
       "      <td>-6.502e-01</td>\n",
       "      <td>-5.950e-01</td>\n",
       "    </tr>\n",
       "    <tr>\n",
       "      <th>50%</th>\n",
       "      <td>2.172e-01</td>\n",
       "      <td>1.553e-02</td>\n",
       "      <td>-3.342e-02</td>\n",
       "      <td>5.664e-03</td>\n",
       "      <td>2.498e-02</td>\n",
       "    </tr>\n",
       "    <tr>\n",
       "      <th>75%</th>\n",
       "      <td>6.440e-01</td>\n",
       "      <td>6.597e-01</td>\n",
       "      <td>6.756e-01</td>\n",
       "      <td>6.382e-01</td>\n",
       "      <td>6.340e-01</td>\n",
       "    </tr>\n",
       "    <tr>\n",
       "      <th>max</th>\n",
       "      <td>2.792e+00</td>\n",
       "      <td>2.985e+00</td>\n",
       "      <td>3.139e+00</td>\n",
       "      <td>2.822e+00</td>\n",
       "      <td>4.490e+00</td>\n",
       "    </tr>\n",
       "  </tbody>\n",
       "</table>\n",
       "</div>"
      ],
      "text/plain": [
       "       INCOME_DESC  Total_sales  total_visits  median_basket  avg_price\n",
       "count    5.640e+02    5.640e+02     5.640e+02      5.640e+02  5.640e+02\n",
       "mean    -1.228e-16   -4.299e-16     2.520e-16     -9.134e-17 -1.071e-16\n",
       "std      1.001e+00    1.001e+00     1.001e+00      1.001e+00  1.001e+00\n",
       "min     -2.027e+00   -2.905e+00    -3.119e+00     -3.156e+00 -3.554e+00\n",
       "25%     -7.496e-01   -7.234e-01    -6.451e-01     -6.502e-01 -5.950e-01\n",
       "50%      2.172e-01    1.553e-02    -3.342e-02      5.664e-03  2.498e-02\n",
       "75%      6.440e-01    6.597e-01     6.756e-01      6.382e-01  6.340e-01\n",
       "max      2.792e+00    2.985e+00     3.139e+00      2.822e+00  4.490e+00"
      ]
     },
     "execution_count": 10,
     "metadata": {},
     "output_type": "execute_result"
    }
   ],
   "source": [
    "from sklearn.preprocessing import PowerTransformer\n",
    "#instantiate \n",
    "pt = PowerTransformer(method='yeo-johnson', standardize=True) \n",
    "\n",
    "#Fit the data to the powertransformer\n",
    "rescaler = pt.fit(X_train)\n",
    "\n",
    "#Lets get the Lambdas that were found\n",
    "print (rescaler.lambdas_)\n",
    "\n",
    "calc_lambdas = rescaler.lambdas_\n",
    "\n",
    "#Transform the data \n",
    "X_train_resc = rescaler.transform(X_train)\n",
    "X_test_resc=rescaler.transform(X_test)\n",
    "\n",
    "#Pass the transformed data into a new dataframe \n",
    "df_xt = pd.DataFrame(data=X_train_resc, columns=[ 'INCOME_DESC', 'Total_sales','total_visits','median_basket','avg_price'])\n",
    "# ,\n",
    "df_xt.head()\n",
    "\n",
    "df_xt.describe()"
   ]
  },
  {
   "cell_type": "code",
   "execution_count": 11,
   "metadata": {},
   "outputs": [
    {
     "data": {
      "text/plain": [
       "<seaborn.axisgrid.FacetGrid at 0x1d123116688>"
      ]
     },
     "execution_count": 11,
     "metadata": {},
     "output_type": "execute_result"
    },
    {
     "data": {
      "image/png": "[encoded data removed]",
      "text/plain": [
       "<Figure size 864x432 with 5 Axes>"
      ]
     },
     "metadata": {
      "needs_background": "light"
     },
     "output_type": "display_data"
    }
   ],
   "source": [
    "df_xt = pd.DataFrame(data=X_train_resc, columns=[  'INCOME_DESC', 'Total_sales','total_visits','median_basket','avg_price'])\n",
    "#Permet de tracer les courbes de distribution de toutes les variables\n",
    "nd = pd.melt(df_xt, value_vars =df_xt )\n",
    "n1 = sns.FacetGrid (nd, col='variable', col_wrap=4, sharex=False, sharey = False)\n",
    "n1 = n1.map(sns.distplot, 'value')\n",
    "n1"
   ]
  },
  {
   "cell_type": "code",
   "execution_count": 12,
   "metadata": {},
   "outputs": [
    {
     "data": {
      "image/png": "[encoded data removed]",
      "text/plain": [
       "<Figure size 864x432 with 1 Axes>"
      ]
     },
     "metadata": {
      "needs_background": "light"
     },
     "output_type": "display_data"
    }
   ],
   "source": [
    "from sklearn.decomposition import PCA\n",
    "\n",
    "pca = PCA().fit(X_train_resc)\n",
    "\n",
    "import matplotlib.pyplot as plt\n",
    "plt.rcParams[\"figure.figsize\"] = (12,6)\n",
    "\n",
    "fig, ax = plt.subplots()\n",
    "xi = np.arange(1, 6, step=1)\n",
    "y = np.cumsum(pca.explained_variance_ratio_)\n",
    "\n",
    "plt.ylim(0.0,1.1)\n",
    "plt.plot(xi, y, marker='o', linestyle='--', color='b')\n",
    "\n",
    "plt.xlabel('Number of Components')\n",
    "plt.xticks(np.arange(0, 11, step=1)) #change from 0-based array index to 1-based human-readable label\n",
    "plt.ylabel('Cumulative variance (%)')\n",
    "plt.title('The number of components needed to explain variance')\n",
    "\n",
    "plt.axhline(y=0.95, color='r', linestyle='-')\n",
    "plt.text(0.5, 0.85, '95% cut-off threshold', color = 'red', fontsize=16)\n",
    "\n",
    "ax.grid(axis='x')\n",
    "plt.show()"
   ]
  },
  {
   "cell_type": "code",
   "execution_count": 13,
   "metadata": {},
   "outputs": [
    {
     "data": {
      "text/plain": [
       "array([0.39536863, 0.29976652])"
      ]
     },
     "execution_count": 13,
     "metadata": {},
     "output_type": "execute_result"
    }
   ],
   "source": [
    "from sklearn.decomposition import PCA\n",
    "# on standardized data\n",
    "pca_std = PCA(n_components=2).fit(X_train_resc)\n",
    "X_train_std = pca_std.transform(X_train_resc)\n",
    "X_test_std = pca_std.transform(X_test_resc)\n",
    "pca_std.explained_variance_ratio_"
   ]
  },
  {
   "cell_type": "code",
   "execution_count": 14,
   "metadata": {},
   "outputs": [],
   "source": [
    "#transformer = ColumnTransformer(transformers=[('cat', OneHotEncoder(), [3,4])], remainder='passthrough')\n",
    "#X = transformer.fit_transform(X)"
   ]
  },
  {
   "cell_type": "code",
   "execution_count": 11,
   "metadata": {},
   "outputs": [
    {
     "name": "stderr",
     "output_type": "stream",
     "text": [
      "Using Theano backend.\n",
      "C:\\Users\\pc\\Anaconda3\\envs\\tensorflow\\lib\\site-packages\\tensorflow\\python\\framework\\dtypes.py:526: FutureWarning: Passing (type, 1) or '1type' as a synonym of type is deprecated; in a future version of numpy, it will be understood as (type, (1,)) / '(1,)type'.\n",
      "  _np_qint8 = np.dtype([(\"qint8\", np.int8, 1)])\n",
      "C:\\Users\\pc\\Anaconda3\\envs\\tensorflow\\lib\\site-packages\\tensorflow\\python\\framework\\dtypes.py:527: FutureWarning: Passing (type, 1) or '1type' as a synonym of type is deprecated; in a future version of numpy, it will be understood as (type, (1,)) / '(1,)type'.\n",
      "  _np_quint8 = np.dtype([(\"quint8\", np.uint8, 1)])\n",
      "C:\\Users\\pc\\Anaconda3\\envs\\tensorflow\\lib\\site-packages\\tensorflow\\python\\framework\\dtypes.py:528: FutureWarning: Passing (type, 1) or '1type' as a synonym of type is deprecated; in a future version of numpy, it will be understood as (type, (1,)) / '(1,)type'.\n",
      "  _np_qint16 = np.dtype([(\"qint16\", np.int16, 1)])\n",
      "C:\\Users\\pc\\Anaconda3\\envs\\tensorflow\\lib\\site-packages\\tensorflow\\python\\framework\\dtypes.py:529: FutureWarning: Passing (type, 1) or '1type' as a synonym of type is deprecated; in a future version of numpy, it will be understood as (type, (1,)) / '(1,)type'.\n",
      "  _np_quint16 = np.dtype([(\"quint16\", np.uint16, 1)])\n",
      "C:\\Users\\pc\\Anaconda3\\envs\\tensorflow\\lib\\site-packages\\tensorflow\\python\\framework\\dtypes.py:530: FutureWarning: Passing (type, 1) or '1type' as a synonym of type is deprecated; in a future version of numpy, it will be understood as (type, (1,)) / '(1,)type'.\n",
      "  _np_qint32 = np.dtype([(\"qint32\", np.int32, 1)])\n",
      "C:\\Users\\pc\\Anaconda3\\envs\\tensorflow\\lib\\site-packages\\tensorflow\\python\\framework\\dtypes.py:535: FutureWarning: Passing (type, 1) or '1type' as a synonym of type is deprecated; in a future version of numpy, it will be understood as (type, (1,)) / '(1,)type'.\n",
      "  np_resource = np.dtype([(\"resource\", np.ubyte, 1)])\n"
     ]
    },
    {
     "name": "stdout",
     "output_type": "stream",
     "text": [
      "Before OverSampling, counts of label 'Sensible': 166\n",
      "Before OverSampling, counts of label 'Not sensible': 337 \n",
      "\n",
      "After OverSampling, the shape of train_X: (674, 20)\n",
      "After OverSampling, the shape of train_y: (674,) \n",
      "\n",
      "After OverSampling, counts of label 'Sensible': 337\n",
      "After OverSampling, counts of label 'Not sensible': 337\n"
     ]
    }
   ],
   "source": [
    "from imblearn.over_sampling import SMOTE\n",
    "# up sample only the train dataset with SMOTE\n",
    "print(\"Before OverSampling, counts of label 'Sensible': {}\".format(sum(y_train==1)))\n",
    "print(\"Before OverSampling, counts of label 'Not sensible': {} \\n\".format(sum(y_train==0)))\n",
    "sm = SMOTE(random_state=42, sampling_strategy = 1.0)\n",
    "X_train, y_train = sm.fit_sample(X_train, y_train)\n",
    "    \n",
    "print('After OverSampling, the shape of train_X: {}'.format(X_train.shape))\n",
    "print('After OverSampling, the shape of train_y: {} \\n'.format(y_train.shape))\n",
    "\n",
    "print(\"After OverSampling, counts of label 'Sensible': {}\".format(sum(y_train==1)))\n",
    "print(\"After OverSampling, counts of label 'Not sensible': {}\".format(sum(y_train==0)))"
   ]
  },
  {
   "cell_type": "code",
   "execution_count": 15,
   "metadata": {},
   "outputs": [
    {
     "name": "stdout",
     "output_type": "stream",
     "text": [
      "Accuracy: 62.40% (3.07%)\n"
     ]
    }
   ],
   "source": [
    "#check the performance of the XGBoost model without tune parameters\n",
    "# fit model on training data\n",
    "from sklearn.model_selection import KFold\n",
    "from sklearn.model_selection import cross_val_score\n",
    "model = xgb.XGBClassifier()\n",
    "kfold = StratifiedKFold(n_splits=5, random_state=7,shuffle=True)\n",
    "results = cross_val_score(model, X_train_std,y_train, cv=kfold)\n",
    "print(\"Accuracy: %.2f%% (%.2f%%)\" % (results.mean()*100, results.std()*100))"
   ]
  },
  {
   "cell_type": "code",
   "execution_count": 23,
   "metadata": {},
   "outputs": [
    {
     "name": "stdout",
     "output_type": "stream",
     "text": [
      "Best: 0.656084 using {'learning_rate': 0.01, 'n_estimators': 100}\n",
      "0.647124 (0.017946) with: {'learning_rate': 0.0001, 'n_estimators': 100}\n",
      "0.648894 (0.020607) with: {'learning_rate': 0.0001, 'n_estimators': 200}\n",
      "0.643584 (0.025728) with: {'learning_rate': 0.0001, 'n_estimators': 300}\n",
      "0.641814 (0.028128) with: {'learning_rate': 0.0001, 'n_estimators': 400}\n",
      "0.641814 (0.028128) with: {'learning_rate': 0.0001, 'n_estimators': 500}\n",
      "0.640044 (0.026948) with: {'learning_rate': 0.001, 'n_estimators': 100}\n",
      "0.629377 (0.025496) with: {'learning_rate': 0.001, 'n_estimators': 200}\n",
      "0.631131 (0.027689) with: {'learning_rate': 0.001, 'n_estimators': 300}\n",
      "0.638243 (0.021473) with: {'learning_rate': 0.001, 'n_estimators': 400}\n",
      "0.638227 (0.021055) with: {'learning_rate': 0.001, 'n_estimators': 500}\n",
      "0.656084 (0.017024) with: {'learning_rate': 0.01, 'n_estimators': 100}\n",
      "0.652481 (0.014136) with: {'learning_rate': 0.01, 'n_estimators': 200}\n",
      "0.652434 (0.016324) with: {'learning_rate': 0.01, 'n_estimators': 300}\n",
      "0.652434 (0.015334) with: {'learning_rate': 0.01, 'n_estimators': 400}\n",
      "0.650680 (0.018764) with: {'learning_rate': 0.01, 'n_estimators': 500}\n",
      "0.636425 (0.032437) with: {'learning_rate': 0.1, 'n_estimators': 100}\n",
      "0.631116 (0.033082) with: {'learning_rate': 0.1, 'n_estimators': 200}\n",
      "0.620496 (0.026978) with: {'learning_rate': 0.1, 'n_estimators': 300}\n",
      "0.624068 (0.018316) with: {'learning_rate': 0.1, 'n_estimators': 400}\n",
      "0.625838 (0.019054) with: {'learning_rate': 0.1, 'n_estimators': 500}\n"
     ]
    }
   ],
   "source": [
    "# grid search to tune algorithm\n",
    "model = XGBClassifier()\n",
    "n_estimators = [100, 200, 300, 400, 500]\n",
    "learning_rate = [0.0001, 0.001, 0.01, 0.1]\n",
    "param_grid = dict(learning_rate=learning_rate, n_estimators=n_estimators)\n",
    "kfold = StratifiedKFold(n_splits=5, shuffle=True, random_state=7)\n",
    "grid_search = GridSearchCV(model, param_grid, scoring=\"accuracy\", n_jobs=-1, cv=kfold)\n",
    "grid_result = grid_search.fit(X_train_std, y_train)\n",
    "# summarize results\n",
    "print(\"Best: %f using %s\" % (grid_result.best_score_, grid_result.best_params_))\n",
    "means = grid_result.cv_results_['mean_test_score']\n",
    "stds = grid_result.cv_results_['std_test_score']\n",
    "params = grid_result.cv_results_['params']\n",
    "for mean, stdev, param in zip(means, stds, params):\n",
    "    print(\"%f (%f) with: %r\" % (mean, stdev, param))"
   ]
  },
  {
   "cell_type": "code",
   "execution_count": 24,
   "metadata": {},
   "outputs": [
    {
     "name": "stdout",
     "output_type": "stream",
     "text": [
      "Accuracy: 65.61% (1.70%)\n"
     ]
    }
   ],
   "source": [
    "from sklearn.model_selection import KFold\n",
    "from sklearn.model_selection import cross_val_score\n",
    "\n",
    "# fit model on training data\n",
    "model = xgb.XGBClassifier(learning_rate = 0.01,\\\n",
    "                          n_estimators=100,\\\n",
    "                          objective = 'binary:logistic',\\\n",
    "                          )\n",
    "kfold = StratifiedKFold(n_splits=5, random_state=7,shuffle=True)\n",
    "results = cross_val_score(model, X_train_std,y_train, cv=kfold)\n",
    "print(\"Accuracy: %.2f%% (%.2f%%)\" % (results.mean()*100, results.std()*100))"
   ]
  },
  {
   "cell_type": "code",
   "execution_count": 25,
   "metadata": {},
   "outputs": [
    {
     "name": "stdout",
     "output_type": "stream",
     "text": [
      "Accuracy: 69.15%\n",
      "              precision    recall  f1-score   support\n",
      "\n",
      "Not sensible       0.71      0.90      0.80       126\n",
      "    Sensible       0.57      0.26      0.36        62\n",
      "\n",
      "    accuracy                           0.69       188\n",
      "   macro avg       0.64      0.58      0.58       188\n",
      "weighted avg       0.67      0.69      0.65       188\n",
      "\n"
     ]
    }
   ],
   "source": [
    "import warnings\n",
    "from sklearn.metrics import classification_report\n",
    "warnings.filterwarnings('ignore')\n",
    "model.fit(X_train_std, y_train)\n",
    "\n",
    "# make predictions for test data\n",
    "predictions = model.predict(X_test_std)\n",
    "# evaluate predictions\n",
    "accuracy = accuracy_score(y_test, predictions)\n",
    "print(\"Accuracy: %.2f%%\" % (accuracy * 100.0))\n",
    "print(classification_report(y_test, predictions))"
   ]
  },
  {
   "cell_type": "code",
   "execution_count": 18,
   "metadata": {},
   "outputs": [
    {
     "data": {
      "image/png": "[encoded data removed]",
      "text/plain": [
       "<Figure size 720x720 with 2 Axes>"
      ]
     },
     "metadata": {
      "needs_background": "light"
     },
     "output_type": "display_data"
    }
   ],
   "source": [
    "import seaborn as sb\n",
    "import sklearn as sk\n",
    "import matplotlib.pyplot as plt\n",
    "# confusion marix for the test data\n",
    "cm = sk.metrics.confusion_matrix(y_test, predictions)\n",
    "\n",
    "fig, ax= plt.subplots(figsize=(10,10))\n",
    "sb.heatmap(cm, annot=True, fmt='g', ax = ax); #annot=True to annotate cells\n",
    "\n",
    "# labels, title and ticks\n",
    "ax.set_xlabel('Predicted labels');\n",
    "ax.set_ylabel('True labels'); \n",
    "ax.set_title('Confusion Matrix'); \n",
    "ax.xaxis.set_ticklabels(['No redeemed', 'Redeeemed coupon']); \n",
    "ax.yaxis.set_ticklabels(['No redeemed', 'Redeeemed coupon']);"
   ]
  },
  {
   "cell_type": "code",
   "execution_count": 20,
   "metadata": {},
   "outputs": [
    {
     "name": "stdout",
     "output_type": "stream",
     "text": [
      "Thresh=0.459, n=2, Accuracy: 62.77%\n",
      "Thresh=0.541, n=1, Accuracy: 66.49%\n"
     ]
    }
   ],
   "source": [
    "from numpy import sort\n",
    "from sklearn.feature_selection import SelectFromModel\n",
    "\n",
    "thresholds = sort(model.feature_importances_)\n",
    "for thresh in thresholds:\n",
    "# select features using threshold\n",
    "    selection = SelectFromModel(model, threshold=thresh, prefit=True)\n",
    "    select_X_train = selection.transform(X_train_std)\n",
    "# train model\n",
    "    selection_model = XGBClassifier()\n",
    "    selection_model.fit(select_X_train, y_train)\n",
    "# eval model\n",
    "    select_X_test = selection.transform(X_test_std)\n",
    "    predictions = selection_model.predict(select_X_test)\n",
    "    accuracy = accuracy_score(y_test, predictions)\n",
    "    print(\"Thresh=%.3f, n=%d, Accuracy: %.2f%%\" % (thresh, select_X_train.shape[1],\n",
    "    accuracy*100.0))\n",
    "\n"
   ]
  },
  {
   "cell_type": "code",
   "execution_count": 21,
   "metadata": {},
   "outputs": [
    {
     "data": {
      "image/png": "[encoded data removed]",
      "text/plain": [
       "<Figure size 720x1296 with 1 Axes>"
      ]
     },
     "metadata": {
      "needs_background": "light"
     },
     "output_type": "display_data"
    }
   ],
   "source": [
    "# check which features are important\n",
    "\n",
    "from xgboost import plot_importance\n",
    "from matplotlib import pyplot\n",
    "\n",
    "fig, ax = pyplot.subplots(figsize=(10, 18));\n",
    "xgb.plot_importance(model, ax=ax);\n"
   ]
  },
  {
   "cell_type": "code",
   "execution_count": null,
   "metadata": {},
   "outputs": [],
   "source": []
  }
 ],
 "metadata": {
  "kernelspec": {
   "display_name": "Python 3",
   "language": "python",
   "name": "python3"
  },
  "language_info": {
   "codemirror_mode": {
    "name": "ipython",
    "version": 3
   },
   "file_extension": ".py",
   "mimetype": "text/x-python",
   "name": "python",
   "nbconvert_exporter": "python",
   "pygments_lexer": "ipython3",
   "version": "3.7.7"
  }
 },
 "nbformat": 4,
 "nbformat_minor": 4
}
